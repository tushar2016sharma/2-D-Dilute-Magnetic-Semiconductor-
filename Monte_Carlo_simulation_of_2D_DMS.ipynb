{
 "cells": [
  {
   "cell_type": "markdown",
   "id": "e2234e14",
   "metadata": {},
   "source": [
    "# Monte Carlo simulation of 2-D Mn-doped ZnO DMS system"
   ]
  },
  {
   "cell_type": "code",
   "execution_count": 1,
   "id": "65ec3073",
   "metadata": {},
   "outputs": [],
   "source": [
    "import numpy as np\n",
    "from numpy import *\n",
    "import matplotlib.pyplot as plt\n",
    "from matplotlib.ticker import (MultipleLocator, AutoMinorLocator)\n",
    "import math\n",
    "from numpy.random import rand\n",
    "from PIL import Image\n",
    "from ipywidgets import interact\n",
    "import time"
   ]
  },
  {
   "cell_type": "code",
   "execution_count": 4,
   "id": "84f46d1c",
   "metadata": {},
   "outputs": [],
   "source": [
    "def spin_lattice(N):\n",
    "    return lattice\n",
    "\n",
    "N = 100                     # dimension \n",
    "lattice = np.zeros((N, N))  # zinc row\n",
    "lattice[::2] = 2            # oxygen row\n",
    "\n",
    "a, c = 3.27, 2.63           # lattice constants\n",
    "\n",
    "Mn_percent = 15             # doping percentage\n",
    "no_of_Mn = int(((len(lattice)**2)*Mn_percent)/100) \n",
    "Mn_arr0 = np.zeros((no_of_Mn, 2))\n",
    "\n",
    "count = 0 \n",
    "while count < no_of_Mn:\n",
    "    i = np.random.randint(len(lattice))\n",
    "    j = np.random.randint(len(lattice))\n",
    "    if lattice[i][j] == 0:\n",
    "        lattice[i][j] = np.random.choice([-1, 1])  # Mn2+ dopant\n",
    "        #lattice[i][j] = 1\n",
    "        Mn_arr0[count][0] = i\n",
    "        Mn_arr0[count][1] = j       \n",
    "    else:\n",
    "        continue\n",
    "    count += 1\n",
    "\n",
    "    \n",
    "lattice[lattice % 2 == 0] = 0\n",
    "lattice = lattice.astype(int)    \n",
    "    \n",
    "Mn_arr = Mn_arr0.astype(int)\n",
    "#print(lattice)"
   ]
  },
  {
   "cell_type": "code",
   "execution_count": 5,
   "id": "fd5a7932",
   "metadata": {
    "scrolled": false
   },
   "outputs": [
    {
     "data": {
      "image/png": "[encoded data removed]",
      "text/plain": [
       "<PIL.Image.Image image mode=L size=100x100 at 0x19B96D5A490>"
      ]
     },
     "execution_count": 5,
     "metadata": {},
     "output_type": "execute_result"
    }
   ],
   "source": [
    "def lattice_field(field):\n",
    "    return Image.fromarray(np.uint8((field + 1)*0.5*255))\n",
    "lattice_field(spin_lattice(N))"
   ]
  },
  {
   "cell_type": "code",
   "execution_count": 6,
   "id": "57837972",
   "metadata": {},
   "outputs": [],
   "source": [
    "def mcstep(config, beta=0.7):\n",
    "    \n",
    "    rand_index = np.random.choice(Mn_arr.shape[0], size = 1)\n",
    "    rand_Mn = Mn_arr[rand_index, :]\n",
    "\n",
    "    x, y, K = int(rand_Mn[0][0]), int(rand_Mn[0][1]), 4   # K is the no. of nearest neighbors\n",
    "    NN_list = sorted(Mn_arr, key = lambda K: c*(K[0]-x)**2 + a*(K[1]-y)**2)[1 : K+1]\n",
    "    NN = np.array(NN_list)\n",
    "    \n",
    "    d_val, nbs = [], [],\n",
    "    for i in range(K):\n",
    "        s = config[x, y]\n",
    "        d_val.append(sqrt((c*(x - NN[i][0]))**2 + (a*(y - NN[i][1]))**2))\n",
    "        nbs.append(config[int(NN[i][0]), int(NN[i][1])])\n",
    "     \n",
    "    j_val = []                   # for 10% - kf = 3.54, j0 = 0.01843, for 20% - kf = 5.01, j0 = 0.016\n",
    "    for i in range(len(d_val)):\n",
    "        j_val.append(((0.016*np.exp(-d_val[i]/d_val[2])*(np.sin(5.011*d_val[i])-\n",
    "                    5.011*d_val[i]*np.cos(5.011*d_val[i])))/(d_val[i]**4))*13600)\n",
    "    \n",
    "    J = np.array(j_val)\n",
    "    #print(J)\n",
    "    \n",
    "    #J = np.abs(np.array(j_val))\n",
    "    #J = 1.22*np.ones(K)\n",
    "    \n",
    "    count = 0\n",
    "    for i in range(Mn_arr.shape[0]):  # earlier N**2\n",
    "        s = config[x, y]\n",
    "        \n",
    "        nb = np.dot(J, nbs)    \n",
    "        dE = 2 * s * nb        # hamiltonian\n",
    "        \n",
    "        if dE <= 0:\n",
    "            s *= -1\n",
    "            count += 1    \n",
    "        elif rand() < np.exp(-beta * dE):\n",
    "            s *= -1\n",
    "            count += 1\n",
    "        config[x, y] = s\n",
    "        #print(dE)\n",
    "    #print(\"flips: \", count)\n",
    "    \n",
    "    return config"
   ]
  },
  {
   "cell_type": "code",
   "execution_count": 7,
   "id": "b3023079",
   "metadata": {},
   "outputs": [
    {
     "data": {
      "application/vnd.jupyter.widget-view+json": {
       "model_id": "974b588116d74e1fb8bf20709cda3a68",
       "version_major": 2,
       "version_minor": 0
      },
      "text/plain": [
       "interactive(children=(IntSlider(value=5000, description='frame', max=10000), Output()), _dom_classes=('widget-…"
      ]
     },
     "metadata": {},
     "output_type": "display_data"
    },
    {
     "name": "stdout",
     "output_type": "stream",
     "text": [
      "time:  3.2906746745109556 min\n"
     ]
    }
   ],
   "source": [
    "start = time.time()\n",
    "\n",
    "def display_steps(images):\n",
    "    def show1(frame = (0, len(images) - 1)):\n",
    "        return lattice_field(images[frame])\n",
    "    return interact(show1)\n",
    "\n",
    "images = [spin_lattice(N)]\n",
    "\n",
    "for j in range(10000):   # no. of MC steps\n",
    "    images.append(mcstep(images[-1].copy()))\n",
    "display_steps(images)\n",
    "\n",
    "end = time.time()\n",
    "print(\"time: \", (end-start)/60, 'min')"
   ]
  },
  {
   "cell_type": "code",
   "execution_count": 8,
   "id": "a0555421",
   "metadata": {},
   "outputs": [],
   "source": [
    "def model_energy(config):   # energy of system\n",
    "    \n",
    "    energy, K = 0, 4     # K: no. of nearest neighbors to consider\n",
    "    \n",
    "    for i in range(len(config)):\n",
    "        for j in range(len(config)):\n",
    "            \n",
    "            s2 = config[i, j]  \n",
    "\n",
    "            if s2 == -1 or s2 == 1:\n",
    "                NN_list2 = sorted(Mn_arr, key = lambda K: c * (K[0] - i)**2 + a * (K[1] - j)**2)[1 : K+1]\n",
    "                NN2 = np.array(NN_list2)\n",
    "\n",
    "                d_val2, nbs2 = [], []\n",
    "                for m in range(K):\n",
    "                    d_val2.append(sqrt((c * (i - NN2[m][0]))**2 + (a * (j - NN2[m][1]))**2))\n",
    "                    nbs2.append(config[int(NN2[m][0]), int(NN2[m][1])])\n",
    "\n",
    "                #j_val2 = []\n",
    "                #for n in range(len(d_val2)):\n",
    "                #    j_val2.append(((0.0184 * np.exp(-d_val2[n] / d_val2[2]) * (np.sin(3.54 * d_val2[n])-\n",
    "                #                3.54 * d_val2[n] * np.cos(3.54 * d_val2[n]))) / (d_val2[n]**4)) * 13600)\n",
    "                #J2 = np.array(j_val2)\n",
    "                \n",
    "                J2 = 1.22*np.ones(K)\n",
    "                \n",
    "                nb2 = np.dot(J2, nbs2)\n",
    "                energy += -nb2 * s2\n",
    "                \n",
    "            else:\n",
    "                continue\n",
    "                                \n",
    "    return energy / 4                 "
   ]
  },
  {
   "cell_type": "code",
   "execution_count": 9,
   "id": "000369a6",
   "metadata": {},
   "outputs": [],
   "source": [
    "def calcmag(config):    # magnetisation of system\n",
    "    mag = np.sum(config)\n",
    "    return mag"
   ]
  },
  {
   "cell_type": "code",
   "execution_count": 10,
   "id": "f24e3ef9",
   "metadata": {},
   "outputs": [],
   "source": [
    "nt = 5            # no. of temperature points  \n",
    "\n",
    "eqSteps = 20000   # no. of equilibrium steps\n",
    "mcSteps = 5000    # no. of Monte Carlo steps\n",
    "\n",
    "T = np.linspace(0.1, 20, nt)    # Tweak the range of temperature !!!\n",
    "E, M, C, X = np.zeros(nt), np.zeros(nt), np.zeros(nt), np.zeros(nt)\n",
    "n1, n2 = 1.0 / (mcSteps * N * N), 1.0 / (mcSteps * mcSteps * N * N) # constants"
   ]
  },
  {
   "cell_type": "code",
   "execution_count": null,
   "id": "482d3d5e",
   "metadata": {},
   "outputs": [],
   "source": [
    "start = time.time()\n",
    "\n",
    "for tt in range(nt):\n",
    "    E1, M1, E2, M2 = 0, 0, 0, 0\n",
    "    config = spin_lattice(N)\n",
    "    beta = 1.0 / T[tt]\n",
    "    iT2 = beta**2\n",
    "\n",
    "#    for i in range(eqSteps):  # equilibrate\n",
    "#        mcstep(config, beta)  # Monte Carlo steps\n",
    "\n",
    "    for i in range(mcSteps):\n",
    "        mcstep(config, beta)\n",
    "        Ene = model_energy(config)  # calculate energy\n",
    "        Mag = calcmag(config)  # calculate magnetisation\n",
    "\n",
    "        M1 = M1 + Mag\n",
    "        E1 = E1 + Ene\n",
    "        M2 = M2 + Mag * Mag\n",
    "        E2 = E2 + Ene * Ene\n",
    "        \n",
    "    E[tt] = n1 * E1\n",
    "    M[tt] = n1 * M1\n",
    "    C[tt] = (n1 * E2 - n2 * E1 * E1) * iT2\n",
    "    X[tt] = (n1 * M2 - n2 * M1 * M1) * beta\n",
    "    \n",
    "end = time.time() \n",
    "print('\\n',\"time:\", (end - start)/60,\"min\")"
   ]
  },
  {
   "cell_type": "code",
   "execution_count": null,
   "id": "b9836c5d",
   "metadata": {},
   "outputs": [],
   "source": [
    "f = plt.figure(figsize=(15, 10))  # plot the calculated values\n",
    "\n",
    "sp = f.add_subplot(2, 2, 1)\n",
    "plt.scatter(T, E, s=50, marker='o', color='IndianRed')\n",
    "plt.xlabel(\"Temperature (T)\", fontsize=20)\n",
    "plt.ylabel(\"Energy \", fontsize=20)\n",
    "plt.axis('tight')\n",
    "\n",
    "sp = f.add_subplot(2, 2, 2)\n",
    "plt.scatter(T, abs(M), s=50, marker='o', color='RoyalBlue')\n",
    "plt.xlabel(\"Temperature (T)\", fontsize=20)\n",
    "plt.ylabel(\"Magnetization \", fontsize=20)\n",
    "plt.axis('tight')\n",
    "\n",
    "sp = f.add_subplot(2, 2, 3)\n",
    "plt.scatter(T, C, s=50, marker='o', color='IndianRed')\n",
    "plt.xlabel(\"Temperature (T)\", fontsize=20)\n",
    "plt.ylabel(\"Specific Heat \", fontsize=20)\n",
    "plt.axis('tight')\n",
    "\n",
    "sp = f.add_subplot(2, 2, 4)\n",
    "plt.scatter(T, X, s=50, marker='o', color='RoyalBlue')\n",
    "plt.xlabel(\"Temperature (T)\", fontsize=20)\n",
    "plt.ylabel(\"Susceptibility\", fontsize=20)\n",
    "plt.axis('tight')\n",
    "plt.show()"
   ]
  },
  {
   "cell_type": "code",
   "execution_count": null,
   "id": "6e832625",
   "metadata": {},
   "outputs": [],
   "source": []
  }
 ],
 "metadata": {
  "kernelspec": {
   "display_name": "Python 3",
   "language": "python",
   "name": "python3"
  },
  "language_info": {
   "codemirror_mode": {
    "name": "ipython",
    "version": 3
   },
   "file_extension": ".py",
   "mimetype": "text/x-python",
   "name": "python",
   "nbconvert_exporter": "python",
   "pygments_lexer": "ipython3",
   "version": "3.8.8"
  }
 },
 "nbformat": 4,
 "nbformat_minor": 5
}
